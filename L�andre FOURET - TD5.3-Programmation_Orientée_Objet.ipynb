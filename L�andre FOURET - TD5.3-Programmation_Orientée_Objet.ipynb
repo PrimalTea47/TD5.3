{
 "cells": [
  {
   "cell_type": "markdown",
   "id": "ed0a8088",
   "metadata": {},
   "source": [
    "---"
   ]
  },
  {
   "cell_type": "markdown",
   "id": "b88a1932",
   "metadata": {},
   "source": [
    " <p align =center> <img src=\"https://github.com/esabahi/NSI_Images/blob/main/NSI-Image.png?raw=true\" width=350>\n",
    "    </p>"
   ]
  },
  {
   "cell_type": "markdown",
   "id": "W84lcE_dziVB",
   "metadata": {
    "id": "W84lcE_dziVB"
   },
   "source": [
    "# TD5.3 - Programmation_Orientée_Objet\n",
    "\n",
    "\n",
    "****************************************\n",
    "\n"
   ]
  },
  {
   "cell_type": "markdown",
   "id": "f083c0e8",
   "metadata": {},
   "source": [
    "Exercice 1:"
   ]
  },
  {
   "cell_type": "markdown",
   "id": "1c703444",
   "metadata": {
    "id": "1c703444"
   },
   "source": [
    "Votre réponse:\n",
    "\n",
    "---------\n",
    "<font color='green'>ici.....</font>\n"
   ]
  },
  {
   "cell_type": "code",
   "execution_count": 10,
   "id": "8c5f9934",
   "metadata": {
    "vscode": {
     "languageId": "plaintext"
    },
    "ExecuteTime": {
     "end_time": "2023-10-07T11:59:43.938565149Z",
     "start_time": "2023-10-07T11:59:43.896266778Z"
    }
   },
   "outputs": [
    {
     "name": "stdout",
     "output_type": "stream",
     "text": [
      "2006\n"
     ]
    }
   ],
   "source": [
    "class Film:\n",
    "    def __init__(self,titre,realisateur):\n",
    "        self.titre = titre\n",
    "        self.realisateur = realisateur\n",
    "    \n",
    "    def get_titre(self):\n",
    "        return self.titre\n",
    "    def get_realisateur(self):\n",
    "        return self.realisateur\n",
    "    def set_titre(self,new_title):\n",
    "        self.titre = new_title\n",
    "    def set_realisateur(self,new_realisateur):\n",
    "        self.realisateur = new_realisateur\n",
    "\n",
    "\n",
    "class Personne:\n",
    "    def __init__(self,nom,annee_naissance,lieu_naissance):\n",
    "        self.nom = nom\n",
    "        self.annee_naissance = annee_naissance\n",
    "        self.lieu_naissance = lieu_naissance\n",
    "        \n",
    "    def get_nom(self):\n",
    "        return self.nom\n",
    "    def get_annee_naissance(self):\n",
    "        return self.annee_naissance\n",
    "    def get_lieu_naissance(self):\n",
    "        return self.lieu_naissance\n",
    "    def set_nom(self,new_nom):\n",
    "        self.nom = new_nom\n",
    "    def set_annee_naissance(self,new_annee_naissance):\n",
    "        self.annee_naissance = new_annee_naissance\n",
    "    def set_lieu_naissance(self,new_lieu_naissance):\n",
    "        self.lieu_naissance = new_lieu_naissance\n",
    "\n",
    "my_movie = Film(\"Dora L'exploratrice\", \"Léandre Fouret\")\n",
    "acteur = Personne(\"John Smith\", 1970, \"Paris\")\n",
    "realisateur = Personne(\"Léandre Fouret\", 2006, \"Avignon\")\n",
    "\n",
    "print(realisateur.get_annee_naissance())\n"
   ]
  },
  {
   "cell_type": "markdown",
   "id": "260c6300",
   "metadata": {},
   "source": [
    "Exercice 2:"
   ]
  },
  {
   "cell_type": "markdown",
   "id": "a8a8886a",
   "metadata": {},
   "source": [
    "Votre réponse:\n",
    "\n",
    "---------\n",
    "<font color='green'>ici.....</font>\n"
   ]
  },
  {
   "cell_type": "code",
   "execution_count": 29,
   "id": "0c4d13fa",
   "metadata": {
    "vscode": {
     "languageId": "plaintext"
    },
    "ExecuteTime": {
     "end_time": "2023-10-07T12:19:04.886445010Z",
     "start_time": "2023-10-07T12:19:04.859857629Z"
    }
   },
   "outputs": [
    {
     "data": {
      "text/plain": "<__main__.Personne at 0x7f384c2bf490>"
     },
     "execution_count": 29,
     "metadata": {},
     "output_type": "execute_result"
    }
   ],
   "source": [
    "class Adresse:\n",
    "    def __init__(self,rue:str,ville:str,code_postal:str):\n",
    "        self.rue = rue\n",
    "        self.ville = ville\n",
    "        self.code_postal = code_postal\n",
    "        \n",
    "    def get_rue(self):\n",
    "        return self.rue\n",
    "    def get_ville(self):\n",
    "        return self.ville\n",
    "    def get_code_postal(self):\n",
    "        return self.code_postal\n",
    "    def set_rue(self,new_rue):\n",
    "        self.rue = new_rue\n",
    "    def set_ville(self,new_ville):\n",
    "        self.ville = new_ville\n",
    "    def set_code_postal(self,new_code_postal):\n",
    "        self.code_postal = new_code_postal\n",
    "\n",
    "\n",
    "class Personne:\n",
    "    def __init__(self,nom:str,sexe:str,adresses:list):\n",
    "        self.nom = nom\n",
    "        self.sexe = sexe\n",
    "        self.adresses = adresses\n",
    "        \n",
    "    def get_nom(self):\n",
    "        return self.nom\n",
    "    def get_sexe(self):\n",
    "        return self.sexe\n",
    "    def get_adresses(self):\n",
    "        return self.adresses\n",
    "    def set_nom(self,new_nom:str):\n",
    "        self.nom = new_nom\n",
    "    def set_sexe(self,new_sexe:str):\n",
    "        self.sexe = new_sexe\n",
    "    def set_adresses(self,new_adresses:list):\n",
    "        self.adresses = new_adresses\n",
    "    \n",
    "class ListePersonnes:\n",
    "    def __init__(self,personnes:list):\n",
    "        self.personnes = personnes\n",
    "    \n",
    "    def get_personnes(self):\n",
    "        return self.personnes\n",
    "    def set_personnes(self,new_personnes:list):\n",
    "        self.personnes = new_personnes\n",
    "    \n",
    "    def find_by_nom(self,s:str):\n",
    "        for i in self.personnes:\n",
    "            pass\n",
    "        \n",
    "\n",
    "ad_1 = Adresse(\"Rue du Général\",\"Paris\",\"9300\")\n",
    "pers_1 = Personne(\"Jean\",\"M\",ad_1)\n",
    "list1 = ListePersonnes(pers_1)\n",
    "list1.get_personnes()\n"
   ]
  }
 ],
 "metadata": {
  "colab": {
   "provenance": []
  },
  "kernelspec": {
   "display_name": "Python 3 (ipykernel)",
   "language": "python",
   "name": "python3"
  },
  "language_info": {
   "codemirror_mode": {
    "name": "ipython",
    "version": 3
   },
   "file_extension": ".py",
   "mimetype": "text/x-python",
   "name": "python",
   "nbconvert_exporter": "python",
   "pygments_lexer": "ipython3",
   "version": "3.9.7"
  }
 },
 "nbformat": 4,
 "nbformat_minor": 5
}
